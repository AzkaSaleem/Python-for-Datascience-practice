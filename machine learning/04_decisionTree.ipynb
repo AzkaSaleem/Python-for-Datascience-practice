{
 "cells": [
  {
   "cell_type": "markdown",
   "metadata": {},
   "source": [
    "# Decision Tree classification"
   ]
  },
  {
   "cell_type": "markdown",
   "metadata": {},
   "source": [
    "it is a supervised learning algorithm.\n",
    "it is a non paramatric supervised learning method used for classification and regression\n",
    "- if then elese decision rule \n",
    "- easy use and interpret\n",
    "- little data prep needed\n",
    "- handle numeric and catagorical\n",
    "- multi output problems can be handled\n",
    "- use boolean logic to model the prediction\n",
    "- perform well"
   ]
  },
  {
   "cell_type": "code",
   "execution_count": 2,
   "metadata": {},
   "outputs": [
    {
     "data": {
      "text/html": [
       "<div>\n",
       "<style scoped>\n",
       "    .dataframe tbody tr th:only-of-type {\n",
       "        vertical-align: middle;\n",
       "    }\n",
       "\n",
       "    .dataframe tbody tr th {\n",
       "        vertical-align: top;\n",
       "    }\n",
       "\n",
       "    .dataframe thead th {\n",
       "        text-align: right;\n",
       "    }\n",
       "</style>\n",
       "<table border=\"1\" class=\"dataframe\">\n",
       "  <thead>\n",
       "    <tr style=\"text-align: right;\">\n",
       "      <th></th>\n",
       "      <th>age</th>\n",
       "      <th>height</th>\n",
       "      <th>weight</th>\n",
       "      <th>gender</th>\n",
       "      <th>likeness</th>\n",
       "    </tr>\n",
       "  </thead>\n",
       "  <tbody>\n",
       "    <tr>\n",
       "      <th>0</th>\n",
       "      <td>27</td>\n",
       "      <td>170.688</td>\n",
       "      <td>76.0</td>\n",
       "      <td>Male</td>\n",
       "      <td>Biryani</td>\n",
       "    </tr>\n",
       "    <tr>\n",
       "      <th>1</th>\n",
       "      <td>41</td>\n",
       "      <td>165.000</td>\n",
       "      <td>70.0</td>\n",
       "      <td>Male</td>\n",
       "      <td>Biryani</td>\n",
       "    </tr>\n",
       "    <tr>\n",
       "      <th>2</th>\n",
       "      <td>29</td>\n",
       "      <td>171.000</td>\n",
       "      <td>80.0</td>\n",
       "      <td>Male</td>\n",
       "      <td>Biryani</td>\n",
       "    </tr>\n",
       "    <tr>\n",
       "      <th>3</th>\n",
       "      <td>27</td>\n",
       "      <td>173.000</td>\n",
       "      <td>102.0</td>\n",
       "      <td>Male</td>\n",
       "      <td>Biryani</td>\n",
       "    </tr>\n",
       "    <tr>\n",
       "      <th>4</th>\n",
       "      <td>29</td>\n",
       "      <td>164.000</td>\n",
       "      <td>67.0</td>\n",
       "      <td>Male</td>\n",
       "      <td>Biryani</td>\n",
       "    </tr>\n",
       "  </tbody>\n",
       "</table>\n",
       "</div>"
      ],
      "text/plain": [
       "   age   height  weight gender likeness\n",
       "0   27  170.688    76.0   Male  Biryani\n",
       "1   41  165.000    70.0   Male  Biryani\n",
       "2   29  171.000    80.0   Male  Biryani\n",
       "3   27  173.000   102.0   Male  Biryani\n",
       "4   29  164.000    67.0   Male  Biryani"
      ]
     },
     "execution_count": 2,
     "metadata": {},
     "output_type": "execute_result"
    }
   ],
   "source": [
    "import pandas as pd\n",
    "df=pd.read_csv(\"multivarBiryani.csv\")\n",
    "df.head()\n"
   ]
  },
  {
   "cell_type": "code",
   "execution_count": 3,
   "metadata": {},
   "outputs": [
    {
     "data": {
      "text/html": [
       "<div>\n",
       "<style scoped>\n",
       "    .dataframe tbody tr th:only-of-type {\n",
       "        vertical-align: middle;\n",
       "    }\n",
       "\n",
       "    .dataframe tbody tr th {\n",
       "        vertical-align: top;\n",
       "    }\n",
       "\n",
       "    .dataframe thead th {\n",
       "        text-align: right;\n",
       "    }\n",
       "</style>\n",
       "<table border=\"1\" class=\"dataframe\">\n",
       "  <thead>\n",
       "    <tr style=\"text-align: right;\">\n",
       "      <th></th>\n",
       "      <th>age</th>\n",
       "      <th>height</th>\n",
       "      <th>weight</th>\n",
       "      <th>gender</th>\n",
       "      <th>likeness</th>\n",
       "    </tr>\n",
       "  </thead>\n",
       "  <tbody>\n",
       "    <tr>\n",
       "      <th>240</th>\n",
       "      <td>31</td>\n",
       "      <td>160.0</td>\n",
       "      <td>60.0</td>\n",
       "      <td>1</td>\n",
       "      <td>Pakora</td>\n",
       "    </tr>\n",
       "    <tr>\n",
       "      <th>241</th>\n",
       "      <td>26</td>\n",
       "      <td>172.0</td>\n",
       "      <td>70.0</td>\n",
       "      <td>1</td>\n",
       "      <td>Biryani</td>\n",
       "    </tr>\n",
       "    <tr>\n",
       "      <th>242</th>\n",
       "      <td>40</td>\n",
       "      <td>178.0</td>\n",
       "      <td>80.0</td>\n",
       "      <td>1</td>\n",
       "      <td>Biryani</td>\n",
       "    </tr>\n",
       "    <tr>\n",
       "      <th>243</th>\n",
       "      <td>25</td>\n",
       "      <td>5.7</td>\n",
       "      <td>65.0</td>\n",
       "      <td>1</td>\n",
       "      <td>Biryani</td>\n",
       "    </tr>\n",
       "    <tr>\n",
       "      <th>244</th>\n",
       "      <td>33</td>\n",
       "      <td>157.0</td>\n",
       "      <td>56.0</td>\n",
       "      <td>0</td>\n",
       "      <td>Samosa</td>\n",
       "    </tr>\n",
       "  </tbody>\n",
       "</table>\n",
       "</div>"
      ],
      "text/plain": [
       "     age  height  weight  gender likeness\n",
       "240   31   160.0    60.0       1   Pakora\n",
       "241   26   172.0    70.0       1  Biryani\n",
       "242   40   178.0    80.0       1  Biryani\n",
       "243   25     5.7    65.0       1  Biryani\n",
       "244   33   157.0    56.0       0   Samosa"
      ]
     },
     "execution_count": 3,
     "metadata": {},
     "output_type": "execute_result"
    }
   ],
   "source": [
    "df['gender']= df['gender'].replace('Male',1)\n",
    "df['gender']= df['gender'].replace('Female',0)\n",
    "df.tail()"
   ]
  },
  {
   "cell_type": "code",
   "execution_count": 4,
   "metadata": {},
   "outputs": [
    {
     "data": {
      "text/plain": [
       "Index(['age', 'height', 'weight', 'gender', 'likeness'], dtype='object')"
      ]
     },
     "execution_count": 4,
     "metadata": {},
     "output_type": "execute_result"
    }
   ],
   "source": [
    "df.columns"
   ]
  },
  {
   "cell_type": "code",
   "execution_count": 5,
   "metadata": {},
   "outputs": [
    {
     "data": {
      "text/html": [
       "<div>\n",
       "<style scoped>\n",
       "    .dataframe tbody tr th:only-of-type {\n",
       "        vertical-align: middle;\n",
       "    }\n",
       "\n",
       "    .dataframe tbody tr th {\n",
       "        vertical-align: top;\n",
       "    }\n",
       "\n",
       "    .dataframe thead th {\n",
       "        text-align: right;\n",
       "    }\n",
       "</style>\n",
       "<table border=\"1\" class=\"dataframe\">\n",
       "  <thead>\n",
       "    <tr style=\"text-align: right;\">\n",
       "      <th></th>\n",
       "      <th>weight</th>\n",
       "      <th>gender</th>\n",
       "      <th>likeness</th>\n",
       "    </tr>\n",
       "  </thead>\n",
       "  <tbody>\n",
       "    <tr>\n",
       "      <th>0</th>\n",
       "      <td>76.0</td>\n",
       "      <td>1</td>\n",
       "      <td>Biryani</td>\n",
       "    </tr>\n",
       "    <tr>\n",
       "      <th>1</th>\n",
       "      <td>70.0</td>\n",
       "      <td>1</td>\n",
       "      <td>Biryani</td>\n",
       "    </tr>\n",
       "    <tr>\n",
       "      <th>2</th>\n",
       "      <td>80.0</td>\n",
       "      <td>1</td>\n",
       "      <td>Biryani</td>\n",
       "    </tr>\n",
       "    <tr>\n",
       "      <th>3</th>\n",
       "      <td>102.0</td>\n",
       "      <td>1</td>\n",
       "      <td>Biryani</td>\n",
       "    </tr>\n",
       "    <tr>\n",
       "      <th>4</th>\n",
       "      <td>67.0</td>\n",
       "      <td>1</td>\n",
       "      <td>Biryani</td>\n",
       "    </tr>\n",
       "  </tbody>\n",
       "</table>\n",
       "</div>"
      ],
      "text/plain": [
       "   weight  gender likeness\n",
       "0    76.0       1  Biryani\n",
       "1    70.0       1  Biryani\n",
       "2    80.0       1  Biryani\n",
       "3   102.0       1  Biryani\n",
       "4    67.0       1  Biryani"
      ]
     },
     "execution_count": 5,
     "metadata": {},
     "output_type": "execute_result"
    }
   ],
   "source": [
    "df1= df.drop(['age', 'height'],axis=1)\n",
    "df1.head()"
   ]
  },
  {
   "cell_type": "code",
   "execution_count": 6,
   "metadata": {},
   "outputs": [],
   "source": [
    "##assigning x and y from the dataset\n",
    "X = df1.iloc[:, :-1].values #get a copy of dataset exclude last column\n",
    "y = df1.iloc[:, 2].values #get array of dataset in column 1st"
   ]
  },
  {
   "cell_type": "code",
   "execution_count": 7,
   "metadata": {},
   "outputs": [
    {
     "data": {
      "text/plain": [
       "array([[ 76.  ,   1.  ],\n",
       "       [ 70.  ,   1.  ],\n",
       "       [ 80.  ,   1.  ],\n",
       "       [102.  ,   1.  ],\n",
       "       [ 67.  ,   1.  ],\n",
       "       [ 46.  ,   0.  ],\n",
       "       [ 64.3 ,   0.  ],\n",
       "       [ 98.  ,   1.  ],\n",
       "       [ 87.5 ,   1.  ],\n",
       "       [ 80.  ,   1.  ],\n",
       "       [ 65.  ,   1.  ],\n",
       "       [ 78.  ,   1.  ],\n",
       "       [ 62.  ,   1.  ],\n",
       "       [ 74.  ,   1.  ],\n",
       "       [102.  ,   1.  ],\n",
       "       [ 78.  ,   1.  ],\n",
       "       [ 93.  ,   1.  ],\n",
       "       [ 68.  ,   1.  ],\n",
       "       [ 71.5 ,   1.  ],\n",
       "       [135.  ,   1.  ],\n",
       "       [ 82.  ,   1.  ],\n",
       "       [ 70.  ,   0.  ],\n",
       "       [ 60.  ,   1.  ],\n",
       "       [ 84.5 ,   1.  ],\n",
       "       [ 65.  ,   0.  ],\n",
       "       [ 70.  ,   1.  ],\n",
       "       [ 59.  ,   1.  ],\n",
       "       [ 78.  ,   1.  ],\n",
       "       [ 68.  ,   1.  ],\n",
       "       [ 62.  ,   0.  ],\n",
       "       [ 58.  ,   0.  ],\n",
       "       [102.3 ,   1.  ],\n",
       "       [ 64.  ,   1.  ],\n",
       "       [ 50.  ,   1.  ],\n",
       "       [ 75.  ,   1.  ],\n",
       "       [ 77.  ,   1.  ],\n",
       "       [ 82.72,   1.  ],\n",
       "       [ 93.  ,   1.  ],\n",
       "       [ 55.  ,   1.  ],\n",
       "       [ 50.  ,   1.  ],\n",
       "       [ 75.  ,   0.  ],\n",
       "       [ 64.  ,   1.  ],\n",
       "       [ 85.  ,   1.  ],\n",
       "       [ 65.  ,   1.  ],\n",
       "       [ 84.  ,   1.  ],\n",
       "       [ 85.  ,   1.  ],\n",
       "       [ 53.  ,   1.  ],\n",
       "       [ 90.  ,   0.  ],\n",
       "       [ 79.  ,   1.  ],\n",
       "       [ 68.  ,   1.  ],\n",
       "       [ 85.  ,   1.  ],\n",
       "       [ 79.  ,   1.  ],\n",
       "       [ 50.9 ,   0.  ],\n",
       "       [ 68.5 ,   1.  ],\n",
       "       [130.  ,   1.  ],\n",
       "       [ 63.  ,   1.  ],\n",
       "       [ 93.  ,   1.  ],\n",
       "       [ 59.  ,   1.  ],\n",
       "       [ 76.  ,   1.  ],\n",
       "       [ 76.  ,   1.  ],\n",
       "       [ 60.  ,   1.  ],\n",
       "       [ 63.  ,   1.  ],\n",
       "       [ 60.  ,   1.  ],\n",
       "       [ 75.  ,   1.  ],\n",
       "       [ 70.  ,   1.  ],\n",
       "       [ 65.  ,   1.  ],\n",
       "       [ 70.  ,   1.  ],\n",
       "       [ 55.  ,   0.  ],\n",
       "       [ 65.  ,   1.  ],\n",
       "       [ 72.6 ,   1.  ],\n",
       "       [ 55.  ,   1.  ],\n",
       "       [ 46.  ,   0.  ],\n",
       "       [ 62.  ,   0.  ],\n",
       "       [ 72.5 ,   1.  ],\n",
       "       [ 55.5 ,   1.  ],\n",
       "       [ 70.  ,   1.  ],\n",
       "       [ 86.  ,   1.  ],\n",
       "       [ 52.  ,   1.  ],\n",
       "       [ 43.  ,   0.  ],\n",
       "       [ 61.5 ,   1.  ],\n",
       "       [ 76.  ,   1.  ],\n",
       "       [ 60.  ,   0.  ],\n",
       "       [ 62.  ,   1.  ],\n",
       "       [ 77.  ,   1.  ],\n",
       "       [ 65.  ,   0.  ],\n",
       "       [ 50.  ,   1.  ],\n",
       "       [ 91.  ,   1.  ],\n",
       "       [ 75.  ,   1.  ],\n",
       "       [ 81.5 ,   1.  ],\n",
       "       [ 88.  ,   1.  ],\n",
       "       [ 60.  ,   1.  ],\n",
       "       [ 86.  ,   1.  ],\n",
       "       [ 87.  ,   1.  ],\n",
       "       [ 70.  ,   1.  ],\n",
       "       [ 55.6 ,   1.  ],\n",
       "       [ 86.  ,   1.  ],\n",
       "       [ 82.  ,   1.  ],\n",
       "       [ 70.  ,   1.  ],\n",
       "       [ 60.  ,   0.  ],\n",
       "       [ 50.  ,   1.  ],\n",
       "       [ 62.  ,   1.  ],\n",
       "       [ 71.  ,   1.  ],\n",
       "       [ 55.  ,   1.  ],\n",
       "       [ 78.  ,   1.  ],\n",
       "       [ 72.  ,   1.  ],\n",
       "       [ 75.  ,   1.  ],\n",
       "       [ 10.92,   1.  ],\n",
       "       [ 57.  ,   0.  ],\n",
       "       [ 90.  ,   1.  ],\n",
       "       [ 65.  ,   0.  ],\n",
       "       [ 68.  ,   1.  ],\n",
       "       [ 74.  ,   1.  ],\n",
       "       [ 52.  ,   1.  ],\n",
       "       [ 51.  ,   0.  ],\n",
       "       [ 76.  ,   1.  ],\n",
       "       [ 82.  ,   1.  ],\n",
       "       [ 75.  ,   1.  ],\n",
       "       [ 86.  ,   1.  ],\n",
       "       [ 80.  ,   1.  ],\n",
       "       [ 51.  ,   1.  ],\n",
       "       [ 78.  ,   1.  ],\n",
       "       [ 54.  ,   1.  ],\n",
       "       [ 85.  ,   1.  ],\n",
       "       [ 58.  ,   0.  ],\n",
       "       [ 68.  ,   1.  ],\n",
       "       [ 97.  ,   1.  ],\n",
       "       [ 66.  ,   1.  ],\n",
       "       [ 47.  ,   0.  ],\n",
       "       [ 65.  ,   1.  ],\n",
       "       [ 60.  ,   1.  ],\n",
       "       [ 90.  ,   1.  ],\n",
       "       [ 40.  ,   0.  ],\n",
       "       [ 62.  ,   1.  ],\n",
       "       [ 65.  ,   1.  ],\n",
       "       [ 55.2 ,   1.  ],\n",
       "       [ 71.  ,   1.  ],\n",
       "       [ 55.  ,   1.  ],\n",
       "       [ 54.  ,   1.  ],\n",
       "       [161.  ,   1.  ],\n",
       "       [102.  ,   1.  ],\n",
       "       [ 85.  ,   1.  ],\n",
       "       [ 59.  ,   1.  ],\n",
       "       [ 83.  ,   1.  ],\n",
       "       [ 46.  ,   0.  ],\n",
       "       [ 53.  ,   0.  ],\n",
       "       [ 62.  ,   0.  ],\n",
       "       [ 55.  ,   1.  ],\n",
       "       [ 76.  ,   1.  ],\n",
       "       [ 68.  ,   1.  ],\n",
       "       [ 57.  ,   1.  ],\n",
       "       [ 81.  ,   1.  ],\n",
       "       [ 80.  ,   1.  ],\n",
       "       [ 68.  ,   1.  ],\n",
       "       [ 63.4 ,   1.  ],\n",
       "       [ 67.  ,   1.  ],\n",
       "       [ 50.  ,   0.  ],\n",
       "       [ 50.4 ,   1.  ],\n",
       "       [ 58.  ,   1.  ],\n",
       "       [ 67.  ,   1.  ],\n",
       "       [ 75.  ,   1.  ],\n",
       "       [ 86.  ,   1.  ],\n",
       "       [ 86.  ,   1.  ],\n",
       "       [ 46.7 ,   0.  ],\n",
       "       [ 45.  ,   0.  ],\n",
       "       [  6.  ,   0.  ],\n",
       "       [ 62.  ,   1.  ],\n",
       "       [ 90.  ,   1.  ],\n",
       "       [101.  ,   1.  ],\n",
       "       [179.  ,   1.  ],\n",
       "       [ 88.  ,   1.  ],\n",
       "       [ 73.  ,   1.  ],\n",
       "       [ 50.  ,   1.  ],\n",
       "       [ 78.  ,   1.  ],\n",
       "       [ 84.  ,   1.  ],\n",
       "       [ 67.  ,   1.  ],\n",
       "       [ 71.  ,   1.  ],\n",
       "       [ 96.  ,   1.  ],\n",
       "       [ 70.  ,   1.  ],\n",
       "       [ 88.  ,   1.  ],\n",
       "       [ 84.  ,   1.  ],\n",
       "       [ 90.  ,   1.  ],\n",
       "       [ 88.  ,   1.  ],\n",
       "       [ 75.  ,   1.  ],\n",
       "       [ 86.  ,   1.  ],\n",
       "       [ 82.  ,   1.  ],\n",
       "       [ 68.  ,   1.  ],\n",
       "       [ 53.  ,   1.  ],\n",
       "       [ 73.8 ,   1.  ],\n",
       "       [ 80.  ,   1.  ],\n",
       "       [ 74.  ,   1.  ],\n",
       "       [ 80.  ,   1.  ],\n",
       "       [ 54.  ,   0.  ],\n",
       "       [ 62.  ,   1.  ],\n",
       "       [ 64.  ,   1.  ],\n",
       "       [ 82.  ,   1.  ],\n",
       "       [ 80.  ,   1.  ],\n",
       "       [ 79.  ,   1.  ],\n",
       "       [ 40.  ,   0.  ],\n",
       "       [ 74.  ,   1.  ],\n",
       "       [ 98.  ,   1.  ],\n",
       "       [ 86.  ,   1.  ],\n",
       "       [ 57.  ,   1.  ],\n",
       "       [ 65.  ,   0.  ],\n",
       "       [ 75.  ,   0.  ],\n",
       "       [ 56.  ,   0.  ],\n",
       "       [ 78.  ,   1.  ],\n",
       "       [ 88.  ,   1.  ],\n",
       "       [ 62.  ,   0.  ],\n",
       "       [ 75.  ,   1.  ],\n",
       "       [ 85.  ,   1.  ],\n",
       "       [ 80.  ,   1.  ],\n",
       "       [ 74.  ,   1.  ],\n",
       "       [ 45.  ,   0.  ],\n",
       "       [ 74.  ,   1.  ],\n",
       "       [ 88.2 ,   1.  ],\n",
       "       [ 77.  ,   1.  ],\n",
       "       [ 60.  ,   0.  ],\n",
       "       [ 68.  ,   1.  ],\n",
       "       [ 78.  ,   1.  ],\n",
       "       [ 85.  ,   1.  ],\n",
       "       [ 62.  ,   0.  ],\n",
       "       [ 70.  ,   1.  ],\n",
       "       [ 60.  ,   1.  ],\n",
       "       [ 74.  ,   1.  ],\n",
       "       [ 48.  ,   0.  ],\n",
       "       [ 53.  ,   1.  ],\n",
       "       [ 64.  ,   1.  ],\n",
       "       [ 26.  ,   0.  ],\n",
       "       [ 59.  ,   0.  ],\n",
       "       [ 96.  ,   1.  ],\n",
       "       [ 64.  ,   1.  ],\n",
       "       [ 68.  ,   1.  ],\n",
       "       [ 72.2 ,   1.  ],\n",
       "       [ 66.  ,   1.  ],\n",
       "       [ 68.  ,   1.  ],\n",
       "       [ 48.  ,   1.  ],\n",
       "       [ 50.  ,   0.  ],\n",
       "       [ 60.  ,   1.  ],\n",
       "       [ 50.  ,   1.  ],\n",
       "       [ 63.  ,   1.  ],\n",
       "       [ 60.  ,   1.  ],\n",
       "       [ 70.  ,   1.  ],\n",
       "       [ 80.  ,   1.  ],\n",
       "       [ 65.  ,   1.  ],\n",
       "       [ 56.  ,   0.  ]])"
      ]
     },
     "execution_count": 7,
     "metadata": {},
     "output_type": "execute_result"
    }
   ],
   "source": [
    "X"
   ]
  },
  {
   "cell_type": "code",
   "execution_count": 8,
   "metadata": {},
   "outputs": [
    {
     "data": {
      "text/plain": [
       "array(['Biryani', 'Biryani', 'Biryani', 'Biryani', 'Biryani', 'Biryani',\n",
       "       'Biryani', 'Biryani', 'Biryani', 'Biryani', 'Pakora', 'Samosa',\n",
       "       'Samosa', 'Biryani', 'Biryani', 'Samosa', 'Biryani', 'Samosa',\n",
       "       'Biryani', 'Biryani', 'Samosa', 'Biryani', 'Pakora', 'Biryani',\n",
       "       'Biryani', 'Biryani', 'Pakora', 'Biryani', 'Biryani', 'Biryani',\n",
       "       'Samosa', 'Biryani', 'Samosa', 'Samosa', 'Samosa', 'Biryani',\n",
       "       'Samosa', 'Biryani', 'Samosa', 'Biryani', 'Biryani', 'Pakora',\n",
       "       'Biryani', 'Biryani', 'Pakora', 'Biryani', 'Samosa', 'Samosa',\n",
       "       'Pakora', 'Biryani', 'Samosa', 'Biryani', 'Biryani', 'Biryani',\n",
       "       'Samosa', 'Samosa', 'Biryani', 'Biryani', 'Biryani', 'Biryani',\n",
       "       'Biryani', 'Biryani', 'Biryani', 'Biryani', 'Biryani', 'Samosa',\n",
       "       'Biryani', 'Biryani', 'Biryani', 'Pakora', 'Pakora', 'Biryani',\n",
       "       'Biryani', 'Biryani', 'Biryani', 'Biryani', 'Biryani', 'Biryani',\n",
       "       'Samosa', 'Biryani', 'Biryani', 'Biryani', 'Biryani', 'Biryani',\n",
       "       'Biryani', 'Pakora', 'Biryani', 'Pakora', 'Biryani', 'Samosa',\n",
       "       'Samosa', 'Biryani', 'Biryani', 'Biryani', 'Biryani', 'Pakora',\n",
       "       'Biryani', 'Biryani', 'Pakora', 'Biryani', 'Pakora', 'Biryani',\n",
       "       'Biryani', 'Pakora', 'Biryani', 'Samosa', 'Biryani', 'Samosa',\n",
       "       'Biryani', 'Pakora', 'Biryani', 'Biryani', 'Biryani', 'Biryani',\n",
       "       'Pakora', 'Samosa', 'Biryani', 'Pakora', 'Pakora', 'Samosa',\n",
       "       'Biryani', 'Pakora', 'Biryani', 'Biryani', 'Pakora', 'Pakora',\n",
       "       'Biryani', 'Biryani', 'Biryani', 'Samosa', 'Biryani', 'Biryani',\n",
       "       'Biryani', 'Biryani', 'Biryani', 'Samosa', 'Biryani', 'Pakora',\n",
       "       'Samosa', 'Biryani', 'Samosa', 'Biryani', 'Biryani', 'Biryani',\n",
       "       'Biryani', 'Biryani', 'Biryani', 'Samosa', 'Samosa', 'Biryani',\n",
       "       'Biryani', 'Biryani', 'Biryani', 'Samosa', 'Biryani', 'Biryani',\n",
       "       'Biryani', 'Biryani', 'Biryani', 'Biryani', 'Pakora', 'Biryani',\n",
       "       'Biryani', 'Biryani', 'Biryani', 'Biryani', 'Biryani', 'Biryani',\n",
       "       'Biryani', 'Biryani', 'Samosa', 'Samosa', 'Biryani', 'Biryani',\n",
       "       'Biryani', 'Pakora', 'Biryani', 'Biryani', 'Samosa', 'Biryani',\n",
       "       'Biryani', 'Biryani', 'Pakora', 'Samosa', 'Biryani', 'Biryani',\n",
       "       'Pakora', 'Pakora', 'Biryani', 'Biryani', 'Biryani', 'Biryani',\n",
       "       'Biryani', 'Samosa', 'Pakora', 'Biryani', 'Samosa', 'Biryani',\n",
       "       'Biryani', 'Biryani', 'Biryani', 'Biryani', 'Samosa', 'Biryani',\n",
       "       'Biryani', 'Pakora', 'Samosa', 'Biryani', 'Biryani', 'Biryani',\n",
       "       'Samosa', 'Biryani', 'Pakora', 'Biryani', 'Samosa', 'Biryani',\n",
       "       'Biryani', 'Pakora', 'Biryani', 'Biryani', 'Biryani', 'Samosa',\n",
       "       'Biryani', 'Biryani', 'Biryani', 'Biryani', 'Samosa', 'Biryani',\n",
       "       'Biryani', 'Biryani', 'Samosa', 'Biryani', 'Pakora', 'Biryani',\n",
       "       'Pakora', 'Biryani', 'Biryani', 'Biryani', 'Samosa', 'Biryani',\n",
       "       'Pakora', 'Biryani', 'Biryani', 'Biryani', 'Samosa'], dtype=object)"
      ]
     },
     "execution_count": 8,
     "metadata": {},
     "output_type": "execute_result"
    }
   ],
   "source": [
    "y"
   ]
  },
  {
   "cell_type": "code",
   "execution_count": 9,
   "metadata": {},
   "outputs": [
    {
     "data": {
      "text/plain": [
       "array(['Biryani'], dtype=object)"
      ]
     },
     "execution_count": 9,
     "metadata": {},
     "output_type": "execute_result"
    }
   ],
   "source": [
    "#machine learning algorithm\n",
    "from sklearn.tree import DecisionTreeClassifier\n",
    "\n",
    "#creat and fit our model\n",
    "model= DecisionTreeClassifier().fit(X,y)\n",
    "\n",
    "#predictions\n",
    "model.predict([[\"67.0\",\"1\"]])\n"
   ]
  },
  {
   "cell_type": "code",
   "execution_count": 10,
   "metadata": {},
   "outputs": [
    {
     "data": {
      "text/plain": [
       "0.5102040816326531"
      ]
     },
     "execution_count": 10,
     "metadata": {},
     "output_type": "execute_result"
    }
   ],
   "source": [
    "# accuracy of model\n",
    "#split data into test and train (80/20)%rule\n",
    "from sklearn.model_selection import train_test_split\n",
    "from sklearn.metrics import accuracy_score\n",
    "\n",
    "X_train, X_test, y_train, y_test =train_test_split(X,y,test_size=0.2, random_state=1)\n",
    "\n",
    "#creat a model\n",
    "model.fit(X_train, y_train)\n",
    "\n",
    "predicted_values =model.predict(X_test)\n",
    "predicted_values\n",
    "\n",
    "score = accuracy_score(y_test, predicted_values)\n",
    "score"
   ]
  },
  {
   "cell_type": "code",
   "execution_count": 11,
   "metadata": {},
   "outputs": [
    {
     "data": {
      "text/plain": [
       "['foodie.joblib']"
      ]
     },
     "execution_count": 11,
     "metadata": {},
     "output_type": "execute_result"
    }
   ],
   "source": [
    "#how to train and save your model\n",
    "import pandas as pd \n",
    "from sklearn.tree import DecisionTreeClassifier\n",
    "import joblib\n",
    "model = DecisionTreeClassifier().fit(X,y)\n",
    "\n",
    "joblib.dump(model, \"foodie.joblib\")"
   ]
  },
  {
   "cell_type": "code",
   "execution_count": 12,
   "metadata": {},
   "outputs": [
    {
     "name": "stdout",
     "output_type": "stream",
     "text": [
      "0.6938775510204082\n"
     ]
    }
   ],
   "source": [
    "# how to import/run a stored/saved model on our data \n",
    "# some time later...\n",
    " \n",
    "# load the model from disk\n",
    "loaded_model = joblib.load(\"foodie.joblib\")\n",
    "result = loaded_model.score(X_test, y_test)\n",
    "print(result)"
   ]
  },
  {
   "cell_type": "code",
   "execution_count": 13,
   "metadata": {},
   "outputs": [],
   "source": [
    "#graph\n",
    "from sklearn import tree\n",
    "\n",
    "model= DecisionTreeClassifier().fit(X,y)\n",
    "#graphic evaluation\n",
    "tree.export_graphviz(model,\n",
    "                    out_file=\"foodie.dot\",\n",
    "                    feature_names=[\"age\",\"gender\"],\n",
    "                    class_names=sorted(y),\n",
    "                    label= \"all\",\n",
    "                    rounded=True,\n",
    "                    filled=True)"
   ]
  },
  {
   "cell_type": "markdown",
   "metadata": {},
   "source": [
    "___\n",
    "___\n"
   ]
  },
  {
   "cell_type": "markdown",
   "metadata": {},
   "source": [
    "another practice"
   ]
  },
  {
   "cell_type": "code",
   "execution_count": 15,
   "metadata": {},
   "outputs": [
    {
     "data": {
      "text/html": [
       "<div>\n",
       "<style scoped>\n",
       "    .dataframe tbody tr th:only-of-type {\n",
       "        vertical-align: middle;\n",
       "    }\n",
       "\n",
       "    .dataframe tbody tr th {\n",
       "        vertical-align: top;\n",
       "    }\n",
       "\n",
       "    .dataframe thead th {\n",
       "        text-align: right;\n",
       "    }\n",
       "</style>\n",
       "<table border=\"1\" class=\"dataframe\">\n",
       "  <thead>\n",
       "    <tr style=\"text-align: right;\">\n",
       "      <th></th>\n",
       "      <th>sepal_length</th>\n",
       "      <th>sepal_width</th>\n",
       "      <th>petal_length</th>\n",
       "      <th>petal_width</th>\n",
       "      <th>species</th>\n",
       "    </tr>\n",
       "  </thead>\n",
       "  <tbody>\n",
       "    <tr>\n",
       "      <th>0</th>\n",
       "      <td>5.1</td>\n",
       "      <td>3.5</td>\n",
       "      <td>1.4</td>\n",
       "      <td>0.2</td>\n",
       "      <td>setosa</td>\n",
       "    </tr>\n",
       "    <tr>\n",
       "      <th>1</th>\n",
       "      <td>4.9</td>\n",
       "      <td>3.0</td>\n",
       "      <td>1.4</td>\n",
       "      <td>0.2</td>\n",
       "      <td>setosa</td>\n",
       "    </tr>\n",
       "    <tr>\n",
       "      <th>2</th>\n",
       "      <td>4.7</td>\n",
       "      <td>3.2</td>\n",
       "      <td>1.3</td>\n",
       "      <td>0.2</td>\n",
       "      <td>setosa</td>\n",
       "    </tr>\n",
       "    <tr>\n",
       "      <th>3</th>\n",
       "      <td>4.6</td>\n",
       "      <td>3.1</td>\n",
       "      <td>1.5</td>\n",
       "      <td>0.2</td>\n",
       "      <td>setosa</td>\n",
       "    </tr>\n",
       "    <tr>\n",
       "      <th>4</th>\n",
       "      <td>5.0</td>\n",
       "      <td>3.6</td>\n",
       "      <td>1.4</td>\n",
       "      <td>0.2</td>\n",
       "      <td>setosa</td>\n",
       "    </tr>\n",
       "  </tbody>\n",
       "</table>\n",
       "</div>"
      ],
      "text/plain": [
       "   sepal_length  sepal_width  petal_length  petal_width species\n",
       "0           5.1          3.5           1.4          0.2  setosa\n",
       "1           4.9          3.0           1.4          0.2  setosa\n",
       "2           4.7          3.2           1.3          0.2  setosa\n",
       "3           4.6          3.1           1.5          0.2  setosa\n",
       "4           5.0          3.6           1.4          0.2  setosa"
      ]
     },
     "execution_count": 15,
     "metadata": {},
     "output_type": "execute_result"
    }
   ],
   "source": [
    "import pandas as pd \n",
    "import numpy as np\n",
    "import seaborn as sns\n",
    "df = sns.load_dataset(\"iris\")\n",
    "df.head()"
   ]
  },
  {
   "cell_type": "code",
   "execution_count": 16,
   "metadata": {},
   "outputs": [],
   "source": [
    "import matplotlib.pyplot as plt\n",
    "from sklearn.tree import DecisionTreeClassifier\n",
    "X= df.iloc[ : ,:-1]\n",
    "y= df.iloc[ : ,-1:]\n"
   ]
  },
  {
   "cell_type": "code",
   "execution_count": 17,
   "metadata": {},
   "outputs": [
    {
     "data": {
      "text/html": [
       "<div>\n",
       "<style scoped>\n",
       "    .dataframe tbody tr th:only-of-type {\n",
       "        vertical-align: middle;\n",
       "    }\n",
       "\n",
       "    .dataframe tbody tr th {\n",
       "        vertical-align: top;\n",
       "    }\n",
       "\n",
       "    .dataframe thead th {\n",
       "        text-align: right;\n",
       "    }\n",
       "</style>\n",
       "<table border=\"1\" class=\"dataframe\">\n",
       "  <thead>\n",
       "    <tr style=\"text-align: right;\">\n",
       "      <th></th>\n",
       "      <th>sepal_length</th>\n",
       "      <th>sepal_width</th>\n",
       "      <th>petal_length</th>\n",
       "      <th>petal_width</th>\n",
       "    </tr>\n",
       "  </thead>\n",
       "  <tbody>\n",
       "    <tr>\n",
       "      <th>0</th>\n",
       "      <td>5.1</td>\n",
       "      <td>3.5</td>\n",
       "      <td>1.4</td>\n",
       "      <td>0.2</td>\n",
       "    </tr>\n",
       "    <tr>\n",
       "      <th>1</th>\n",
       "      <td>4.9</td>\n",
       "      <td>3.0</td>\n",
       "      <td>1.4</td>\n",
       "      <td>0.2</td>\n",
       "    </tr>\n",
       "    <tr>\n",
       "      <th>2</th>\n",
       "      <td>4.7</td>\n",
       "      <td>3.2</td>\n",
       "      <td>1.3</td>\n",
       "      <td>0.2</td>\n",
       "    </tr>\n",
       "    <tr>\n",
       "      <th>3</th>\n",
       "      <td>4.6</td>\n",
       "      <td>3.1</td>\n",
       "      <td>1.5</td>\n",
       "      <td>0.2</td>\n",
       "    </tr>\n",
       "    <tr>\n",
       "      <th>4</th>\n",
       "      <td>5.0</td>\n",
       "      <td>3.6</td>\n",
       "      <td>1.4</td>\n",
       "      <td>0.2</td>\n",
       "    </tr>\n",
       "  </tbody>\n",
       "</table>\n",
       "</div>"
      ],
      "text/plain": [
       "   sepal_length  sepal_width  petal_length  petal_width\n",
       "0           5.1          3.5           1.4          0.2\n",
       "1           4.9          3.0           1.4          0.2\n",
       "2           4.7          3.2           1.3          0.2\n",
       "3           4.6          3.1           1.5          0.2\n",
       "4           5.0          3.6           1.4          0.2"
      ]
     },
     "execution_count": 17,
     "metadata": {},
     "output_type": "execute_result"
    }
   ],
   "source": [
    "X.head()"
   ]
  },
  {
   "cell_type": "code",
   "execution_count": 18,
   "metadata": {},
   "outputs": [
    {
     "data": {
      "text/html": [
       "<div>\n",
       "<style scoped>\n",
       "    .dataframe tbody tr th:only-of-type {\n",
       "        vertical-align: middle;\n",
       "    }\n",
       "\n",
       "    .dataframe tbody tr th {\n",
       "        vertical-align: top;\n",
       "    }\n",
       "\n",
       "    .dataframe thead th {\n",
       "        text-align: right;\n",
       "    }\n",
       "</style>\n",
       "<table border=\"1\" class=\"dataframe\">\n",
       "  <thead>\n",
       "    <tr style=\"text-align: right;\">\n",
       "      <th></th>\n",
       "      <th>species</th>\n",
       "    </tr>\n",
       "  </thead>\n",
       "  <tbody>\n",
       "    <tr>\n",
       "      <th>0</th>\n",
       "      <td>setosa</td>\n",
       "    </tr>\n",
       "    <tr>\n",
       "      <th>1</th>\n",
       "      <td>setosa</td>\n",
       "    </tr>\n",
       "    <tr>\n",
       "      <th>2</th>\n",
       "      <td>setosa</td>\n",
       "    </tr>\n",
       "    <tr>\n",
       "      <th>3</th>\n",
       "      <td>setosa</td>\n",
       "    </tr>\n",
       "    <tr>\n",
       "      <th>4</th>\n",
       "      <td>setosa</td>\n",
       "    </tr>\n",
       "  </tbody>\n",
       "</table>\n",
       "</div>"
      ],
      "text/plain": [
       "  species\n",
       "0  setosa\n",
       "1  setosa\n",
       "2  setosa\n",
       "3  setosa\n",
       "4  setosa"
      ]
     },
     "execution_count": 18,
     "metadata": {},
     "output_type": "execute_result"
    }
   ],
   "source": [
    "y.head()"
   ]
  },
  {
   "cell_type": "code",
   "execution_count": 19,
   "metadata": {},
   "outputs": [
    {
     "data": {
      "image/png": "[encoded data removed]",
      "text/plain": [
       "<Figure size 432x288 with 1 Axes>"
      ]
     },
     "metadata": {
      "needs_background": "light"
     },
     "output_type": "display_data"
    }
   ],
   "source": [
    "from sklearn.tree import DecisionTreeClassifier\n",
    "from sklearn.tree import plot_tree\n",
    "\n",
    "model = DecisionTreeClassifier().fit(X,y)\n",
    "plot_tree(model, filled=True)\n",
    "plt.title(\"decision tree trained model of IRIS data\")\n",
    "plt.show()\n"
   ]
  },
  {
   "cell_type": "code",
   "execution_count": null,
   "metadata": {},
   "outputs": [],
   "source": []
  },
  {
   "cell_type": "code",
   "execution_count": null,
   "metadata": {},
   "outputs": [],
   "source": []
  },
  {
   "cell_type": "code",
   "execution_count": null,
   "metadata": {},
   "outputs": [],
   "source": []
  },
  {
   "cell_type": "code",
   "execution_count": null,
   "metadata": {},
   "outputs": [],
   "source": []
  },
  {
   "cell_type": "code",
   "execution_count": null,
   "metadata": {},
   "outputs": [],
   "source": []
  },
  {
   "cell_type": "code",
   "execution_count": null,
   "metadata": {},
   "outputs": [],
   "source": []
  },
  {
   "cell_type": "code",
   "execution_count": null,
   "metadata": {},
   "outputs": [],
   "source": []
  },
  {
   "cell_type": "code",
   "execution_count": null,
   "metadata": {},
   "outputs": [],
   "source": []
  },
  {
   "cell_type": "code",
   "execution_count": null,
   "metadata": {},
   "outputs": [],
   "source": []
  },
  {
   "cell_type": "code",
   "execution_count": null,
   "metadata": {},
   "outputs": [],
   "source": []
  },
  {
   "cell_type": "code",
   "execution_count": null,
   "metadata": {},
   "outputs": [],
   "source": []
  },
  {
   "cell_type": "code",
   "execution_count": null,
   "metadata": {},
   "outputs": [],
   "source": []
  }
 ],
 "metadata": {
  "interpreter": {
   "hash": "97add1490c5f01135f3bb7e94642f4624b587c7043609d018f9a7eb9f44698e7"
  },
  "kernelspec": {
   "display_name": "Python 3.10.1 64-bit",
   "language": "python",
   "name": "python3"
  },
  "language_info": {
   "codemirror_mode": {
    "name": "ipython",
    "version": 3
   },
   "file_extension": ".py",
   "mimetype": "text/x-python",
   "name": "python",
   "nbconvert_exporter": "python",
   "pygments_lexer": "ipython3",
   "version": "3.10.1"
  },
  "orig_nbformat": 4
 },
 "nbformat": 4,
 "nbformat_minor": 2
}
