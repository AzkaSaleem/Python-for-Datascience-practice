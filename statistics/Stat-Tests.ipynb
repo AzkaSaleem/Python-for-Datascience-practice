{
 "cells": [
  {
   "cell_type": "markdown",
   "metadata": {},
   "source": [
    "# 1. shapiro wilk test\n",
    "Tests weather a data has a guassian or normal distribution.\n",
    "## Assumptions\n",
    "1. observation in each sample are independent and identically distributed(iid).\n",
    "2. interpretation\n",
    "    - the sample has a normal distribution\n",
    "    - the sample has not a normal distribution\n"
   ]
  },
  {
   "cell_type": "code",
   "execution_count": 1,
   "metadata": {},
   "outputs": [
    {
     "ename": "SyntaxError",
     "evalue": "invalid syntax (3677087315.py, line 2)",
     "output_type": "error",
     "traceback": [
      "\u001b[1;36m  Input \u001b[1;32mIn [1]\u001b[1;36m\u001b[0m\n\u001b[1;33m    pip install scipy\u001b[0m\n\u001b[1;37m        ^\u001b[0m\n\u001b[1;31mSyntaxError\u001b[0m\u001b[1;31m:\u001b[0m invalid syntax\n"
     ]
    }
   ],
   "source": [
    "#important libarary for tests\n",
    "pip install scipy"
   ]
  },
  {
   "cell_type": "code",
   "execution_count": null,
   "metadata": {},
   "outputs": [],
   "source": [
    "# Example of the shapiro wilk test\n",
    "from scipy.stats import shapiro\n",
    "data1 = [0.873, 2.817, 0.121, -0.945, -0.055, -1.436, 0.360, -1.478, -1.637, -1.869]\n",
    "stat, p =shapiro(data1)\n",
    "print ('stat=',stat)\n",
    "print ('p=',p)\n",
    "if p > 0.05:\n",
    "    print('the data is normal')\n",
    "else:\n",
    "    print('the data is not normal')"
   ]
  },
  {
   "cell_type": "code",
   "execution_count": null,
   "metadata": {},
   "outputs": [],
   "source": [
    "#look in histogram to see normality\n",
    "import seaborn as sns\n",
    "import numpy as np\n",
    "import matplotlib.pyplot as plt\n",
    "import pandas as pd\n",
    "ks= sns.load_dataset('titanic')\n",
    "ks['age'].hist()"
   ]
  },
  {
   "cell_type": "code",
   "execution_count": null,
   "metadata": {},
   "outputs": [],
   "source": [
    "#box plot for normality view \n",
    "sns.boxplot(ks['age'])"
   ]
  },
  {
   "cell_type": "code",
   "execution_count": null,
   "metadata": {},
   "outputs": [],
   "source": [
    "# Example of the shapiro wilk test on titanic fare\n",
    "from scipy.stats import shapiro\n",
    "data1 = ks['fare']\n",
    "stat, p =shapiro(data1)\n",
    "print ('stat=',stat)\n",
    "print ('p=',p)\n",
    "if p > 0.05:\n",
    "    print('the data is normal')\n",
    "else:\n",
    "    print('the data is not normal')\n",
    "ks['fare'].hist()"
   ]
  },
  {
   "cell_type": "code",
   "execution_count": null,
   "metadata": {},
   "outputs": [],
   "source": [
    "# box plot is also not normal\n",
    "sns.boxplot(ks['fare'])"
   ]
  },
  {
   "cell_type": "code",
   "execution_count": null,
   "metadata": {},
   "outputs": [],
   "source": [
    "# normality test\n",
    "from scipy.stats import shapiro\n",
    "stat, p = shapiro(ks['age'])\n",
    "print ('stat=',stat)\n",
    "print ('p=',p)\n",
    "if p > 0.05:\n",
    "    print('the data is normal')\n",
    "else:\n",
    "    print('the data is not normal')"
   ]
  },
  {
   "cell_type": "code",
   "execution_count": null,
   "metadata": {},
   "outputs": [],
   "source": [
    "# normality test for fare\n",
    "from scipy.stats import shapiro\n",
    "stat, p = shapiro(ks['fare'])\n",
    "print ('stat=',stat)\n",
    "print ('p=',p)\n",
    "if p > 0.05:\n",
    "    print('the data is normal')\n",
    "else:\n",
    "    print('the data is not normal')"
   ]
  },
  {
   "cell_type": "markdown",
   "metadata": {},
   "source": [
    "# 2. Correlation test\n",
    "1. pearsons correlation coefficient\n",
    "2. test weather two samples have a linear relationship\n",
    "3. \n",
    "**Assumptions**\n",
    "\n",
    "1. observation in each sample are independent and identically distributed(iid).\n",
    "2. observation in each sampleis normally distributed\n",
    "3. observation in each samplehave the same variance\n",
    "4. interpretation\n",
    "   - H0: the two samples are independent\n",
    "   - H2: there is a dependency between two samples"
   ]
  },
  {
   "cell_type": "code",
   "execution_count": null,
   "metadata": {},
   "outputs": [],
   "source": [
    "# Example of the Pearson's Correlation test\n",
    "from scipy.stats import pearsonr\n",
    "data1 = [0.873, 2.817, 0.121, -0.945, -0.055, -1.436, 0.360, -1.478, -1.637, -1.869]\n",
    "data2 = [0.353, 3.517, 0.125, -7.545, -0.555, -1.536, 3.350, -1.578, -3.537, -1.579]\n",
    "ks.dropna()\n",
    "stat, p = pearsonr(data1, data2)\n",
    "print('stat=%.3f, p=%.3f' % (stat, p))\n",
    "if p > 0.05:\n",
    "  print('Probably independent')\n",
    "else:\n",
    "    print('Probably dependent')"
   ]
  },
  {
   "cell_type": "markdown",
   "metadata": {},
   "source": [
    "# 2- Spearmans Rank correlation\n",
    "Test weather two samples have a monotonic relationship\n",
    "\n",
    "**Assumptions**\n",
    "1. Observation in each sample are independent and identically distributed (iid)\n",
    "2. Observation ineach sample can be ranked\n",
    "3. Interpretation\n",
    "   - H0: the two samples are independent\n",
    "   - H2: there is a dependency between two samples"
   ]
  },
  {
   "cell_type": "code",
   "execution_count": null,
   "metadata": {},
   "outputs": [],
   "source": [
    "# Example of the spearman's Correlation test\n",
    "from scipy.stats import spearmanr\n",
    "data1 = [0.873, 2.817, 0.121, -0.945, -0.055, -1.436, 0.360, -1.478, -1.637, -1.869]\n",
    "data2 = [0.353, 3.517, 0.125, -7.545, -0.555, -1.536, 3.350, -1.578, -3.537, -1.579]\n",
    "ks.dropna()\n",
    "stat, p = spearmanr(data1, data2)\n",
    "print('stat=%.3f, p=%.3f' % (stat, p))\n",
    "if p > 0.05:\n",
    "  print('Probably independent')\n",
    "else:\n",
    "    print('Probably dependent')"
   ]
  },
  {
   "cell_type": "markdown",
   "metadata": {},
   "source": [
    "# 3. Chi-squared test\n",
    "\n",
    "Test weather teo catagorical variables are related or independent.\n",
    "\n",
    "**Assumptions**\n",
    "1. Observation used in calculation of the contingency table are independent.\n",
    "2. 25 or more examples in each cell of the contingency table.\n",
    "3. interpretation\n",
    "   - H0: the two samples are independent\n",
    "   - H2: there is a dependency between two samples\n"
   ]
  },
  {
   "cell_type": "code",
   "execution_count": null,
   "metadata": {},
   "outputs": [],
   "source": [
    "#example of the Chi-squared test\n",
    "from scipy.stats import chi2_contingency\n",
    "table= [[10,20,30],[6,9,17]]\n",
    "stat,p,dof, expected= chi2_contingency(table)\n",
    "print('stat=%.3f, p=%.3f' % (stat, p))\n",
    "if p > 0.05:\n",
    "  print('Probably independent')\n",
    "else:\n",
    "    print('Probably dependent')"
   ]
  },
  {
   "cell_type": "markdown",
   "metadata": {},
   "source": [
    "# 3- Paramatric statical hypothesis test\n",
    "## 1- student t-test\n",
    "\n",
    "Tests weather the means of two independent samples are significantly different.\n",
    "**Assumptions**\n",
    "\n",
    "1. observation in each sample are independent and identically distributed(iid).\n",
    "2. observation in each samples are normally distributed\n",
    "3. observation in each samples have the same variance\n",
    "4. interpretation\n",
    "   - H0: the means of the samples are equal\n",
    "   - H1: the means of the samples are not equal"
   ]
  },
  {
   "cell_type": "code",
   "execution_count": null,
   "metadata": {},
   "outputs": [],
   "source": [
    "# Example of the Student's t-test\n",
    "from scipy.stats import ttest_ind\n",
    "data1 = [0.873, 2.817, 0.121, -0.945, -0.055, -1.436, 0.360, -1.478, -1.637, -1.869]\n",
    "data2 = [1.142, -0.432, -0.938, -0.729, -0.846, -0.157, 0.500, 1.183, -1.075, -0.169]\n",
    "stat, p = ttest_ind(data1, data2)\n",
    "print('stat=%.3f, p=%.3f' % (stat, p))\n",
    "if p > 0.05:\n",
    "  print('Probably the same distribution')\n",
    "else:\n",
    "    print('Probably different distribution')"
   ]
  },
  {
   "cell_type": "markdown",
   "metadata": {},
   "source": [
    "## 2- Paired student t-test\n",
    "Tests weather the means of two paired samples are significantly different.\n",
    "**Assumptions**\n",
    "1. observation in each sample are independent and identically distributed(iid).\n",
    "2. observation in each samples are normally distributed\n",
    "3. observation in each samples have the same variance\n",
    "4. observation across each sample are paired\n",
    "5. interpretation\n",
    "   - H0: the means of the samples are equal\n",
    "   - H1: the means of the samples are not equal"
   ]
  },
  {
   "cell_type": "code",
   "execution_count": null,
   "metadata": {},
   "outputs": [],
   "source": [
    "# Example of the Paired Student's t-test\n",
    "from scipy.stats import ttest_rel\n",
    "data1 = [0.873, 2.817, 0.121, -0.945, -0.055, -1.436, 0.360, -1.478, -1.637, -1.869]\n",
    "data2 = [1.142, -0.432, -0.938, -0.729, -0.846, -0.157, 0.500, 1.183, -1.075, -0.169]\n",
    "stat, p = ttest_rel(data1, data2)\n",
    "print('stat=%.3f, p=%.3f' % (stat, p))\n",
    "if p > 0.05:\n",
    "  print('Probably the same distribution')\n",
    "=else:\n",
    "    print('Probably different distributions')"
   ]
  },
  {
   "cell_type": "markdown",
   "metadata": {},
   "source": [
    "##4- Analysis of variance test (ANOVA)\n",
    "Tests weather the means of two or mor independent samples are significantly different.\n",
    "**Assumptions**\n",
    "1. observation in each sample are independent and identically distributed(iid).\n",
    "2. observation in each samples are normally distributed\n",
    "3. observation in each samples have the same variance\n",
    "4. interpretation\n",
    "   - H0: the means of the samples are equal\n",
    "   - H1: one or more of the means of the samples are not equal"
   ]
  },
  {
   "cell_type": "code",
   "execution_count": null,
   "metadata": {},
   "outputs": [],
   "source": [
    "#Example of Analysis of variance test (ANOVA)\n",
    "from scipy.stats import f_oneway\n",
    "data1 = [0.873, 2.817, 0.121, -0.945, -0.055, -1.436, 0.360, -1.478, -1.637, -1.869]\n",
    "data2 = [1.142, -0.432, -0.938, -0.729, -0.846, -0.157, 0.500, 1.183, -1.075, -0.169]\n",
    "data3 = [-0.28, 0.696, 0.928, -1.148, -0.213, 0.229, 0.137, 0.269, -0.870, -1.204]\n",
    "stat, p = f_oneway(data1, data2, data3)\n",
    "print('stat=%.3f, p=%.3f' % (stat, p))\n",
    "if p > 0.05:\n",
    "  print('Probably the same distribution')\n",
    "else:\n",
    "    print('Probably different distributions')"
   ]
  },
  {
   "cell_type": "markdown",
   "metadata": {},
   "source": [
    "## Post Hoc Tests\n",
    "The most common post hoc tests are:\n",
    "1. Tukey’s Test (Tukey's HSD is the most preferred post-hoc test)\n",
    "2. Bonferroni Procedure"
   ]
  }
 ],
 "metadata": {
  "interpreter": {
   "hash": "97add1490c5f01135f3bb7e94642f4624b587c7043609d018f9a7eb9f44698e7"
  },
  "kernelspec": {
   "display_name": "Python 3.10.1 64-bit",
   "language": "python",
   "name": "python3"
  },
  "language_info": {
   "codemirror_mode": {
    "name": "ipython",
    "version": 3
   },
   "file_extension": ".py",
   "mimetype": "text/x-python",
   "name": "python",
   "nbconvert_exporter": "python",
   "pygments_lexer": "ipython3",
   "version": "3.10.1"
  },
  "orig_nbformat": 4
 },
 "nbformat": 4,
 "nbformat_minor": 2
}
